{
 "cells": [
  {
   "cell_type": "markdown",
   "metadata": {},
   "source": [
    "# Dynosaur"
   ]
  },
  {
   "cell_type": "markdown",
   "metadata": {},
   "source": [
    "Welcome to Dynosaur, a machine learning project I started to learn all about\n",
    "[reinforcement learning](https://en.wikipedia.org/wiki/Reinforcement_learning) and\n",
    "beat the Google Dinosaur Jumper Game.\n",
    "To get started, head on over to [http://dynosaur.billyz.me](http://dynosaur.billyz.me)"
   ]
  },
  {
   "cell_type": "markdown",
   "metadata": {},
   "source": [
    "## Table of Contents\n",
    "- [The Game](#The-Game)\n",
    "- [Neural Networks](#Neural-Networks)\n",
    "- [Multidimensional Optimization Problem](#Multidimensional-Optimization-Problem)\n",
    "- [Neuroevolution](#Neuroevolution)\n",
    "- Neuroevolution of Augmenting Topologies (NEAT)\n",
    "  - Sequential NEAT\n",
    "  - Parallel NEAT\n",
    "  - Continuous NEAT\n",
    "- Backpropagation\n",
    "- Q Learning\n",
    "  - Sequential Q\n",
    "  - Parallel Q\n",
    "- The Lab\n",
    "- Future Improvements\n",
    "- Resources"
   ]
  },
  {
   "cell_type": "markdown",
   "metadata": {},
   "source": [
    "## The Game\n",
    "The Google Dinosaur Game is found on Google Chrome's default offline page.\n",
    "The game has a simple objective: maximize your score by avoiding oncoming obstacles. The longer you survive, the higher the score becomes."
   ]
  },
  {
   "cell_type": "markdown",
   "metadata": {},
   "source": [
    "![alt text](https://github.com/BillyZhong/dynosaur/raw/master/documentation/googledinosaurgame.png \"Google Dinosaur Game\")"
   ]
  },
  {
   "cell_type": "markdown",
   "metadata": {},
   "source": [
    "#### Actions\n",
    "The dinosaur has three actions: jump (up arrow or space), duck (down arrow), or neither.\n",
    "When the dinosaur is ducking, its collision box becomes shorter than when it is standing up.\n",
    "When the dinosaur jumps, its collision box maintains the same dimensions while rising upwards using standard projectile physics."
   ]
  },
  {
   "cell_type": "markdown",
   "metadata": {},
   "source": [
    "#### Obstacles\n",
    "There are two obstacles to avoid in the game: cacti and pterodactyls. Cacti have varying  height but are always located on the ground. They can be clustered or singular, which alters the width of their collision boxes. In order to continue, dinosaurs must jump over the cacti.\n",
    "Pterodactyls are always singular and all have the same dimensions. However, pterodactyls can hover at three different heights. At the lowest height, the dinosaur must jump over the pterodactyls to continue. At the second lowest height, the dinosaur can jump over the pterodactyl or duck under in order to continue. At the highest height, the dinosaur can do all three actions (if timed correctly) in order to continue."
   ]
  },
  {
   "cell_type": "markdown",
   "metadata": {},
   "source": [
    "#### Inputs\n",
    "In order to make this game accessible to the bot, an open source version of the game, with identical physics, was utilized. The game file was modified to allow the bot to access data to use as inputs. These inputs are\n",
    "\n",
    "- T-Rex Speed\n",
    "- Distance from Ground to the Top of T-Rex Collision Box\n",
    "- Distance from Ground to the Bottom of T-Rex Collision Box\n",
    "- Distance from Left of the First Obstacle Collision Box to Right of the T-Rex Collision Box\n",
    "- Distance from Right of the First Obstacle Collision Box to Right of the T-Rex Collision Box\n",
    "- Distance from Ground to the Top of First Obstacle Collision Box\n",
    "- Distance from Ground to the Bottom of First Obstacle Collision Box\n",
    "- Distance from Left of the Second Obstacle Collision Box to Right of the T-Rex Collision Box\n",
    "- Distance from Right of the Second Obstacle Collision Box to Right of the T-Rex Collision Box\n",
    "- Distance from Ground to the Top of Second Obstacle Collision Box\n",
    "- Distance from Ground to the Bottom of Second Obstacle Collision Box"
   ]
  },
  {
   "cell_type": "markdown",
   "metadata": {},
   "source": [
    "![alt text](https://github.com/BillyZhong/dynosaur/raw/master/documentation/inputsoutputs.png \"Inputs and Outputs\")"
   ]
  },
  {
   "cell_type": "markdown",
   "metadata": {},
   "source": [
    "## Neural Networks\n",
    "\n",
    "In order to give the dinosaur some way to make decisions on whether to jump or duck, each dinosaur will have a neural network “brain”. [Neural Networks](https://en.wikipedia.org/wiki/Artificial_neural_network) consist of artificial neurons that are linked together to model biological neurons."
   ]
  },
  {
   "cell_type": "markdown",
   "metadata": {},
   "source": [
    "#### Neurons\n",
    "An [artificial neuron](https://en.wikipedia.org/wiki/Artificial_neuron) applies activation function $\\varphi(\\nu)$ to Euclidean inner product of inputs and weights $\\nu = \\sum x_i \\omega_i$ to produce output $y$, which is fed into the next neurons. In addition, the inner product may also be shifted by the bias of a node $b$. Thus $y=\\varphi(\\sum x_i \\omega_i-b)$. Artificial neurons model [biological neurons](https://en.wikipedia.org/wiki/Neuron), which sum up all stimuli from dendrites and synapses across axon when above a certain threshold."
   ]
  },
  {
   "cell_type": "markdown",
   "metadata": {},
   "source": [
    "![alt text](https://github.com/BillyZhong/dynosaur/raw/master/documentation/neuron.png \"Artificial Neuron\")"
   ]
  },
  {
   "cell_type": "markdown",
   "metadata": {},
   "source": [
    "#### Activation Functions\n",
    "[Activation functions](https://en.wikipedia.org/wiki/Activation_function) are typically [Sigmoid functions](https://en.wikipedia.org/wiki/Sigmoid_function) to round out extreme inputs and center them around zero"
   ]
  },
  {
   "cell_type": "markdown",
   "metadata": {},
   "source": [
    "![alt text](https://github.com/BillyZhong/dynosaur/raw/master/documentation/activation.png \"Activation Functions\")"
   ]
  },
  {
   "cell_type": "markdown",
   "metadata": {},
   "source": [
    "#### Networks\n",
    "A network of neurons allows one to create an overall system, in which each neuron’s output feeds into another’s input. Networks consists of input, hidden, and output neurons.\n",
    "Input neurons sense stimuli. Hidden neurons allow for internal abstraction of senses. Output neurons respond with interpretation of stimuli."
   ]
  },
  {
   "cell_type": "markdown",
   "metadata": {},
   "source": [
    "![alt text](https://github.com/BillyZhong/dynosaur/raw/master/documentation/neuralnet.png \"Neural Network\")"
   ]
  },
  {
   "cell_type": "markdown",
   "metadata": {},
   "source": [
    "The dinosaurs will take the numerical values of the inputs measured above, propagate them through the networks and use the output values to decide whether or not to jump or duck. Between the two output neurons the actions will be decided using the following pseudocode\n",
    "\n",
    "```\n",
    "if(output2 > outputThreshold2):\n",
    "  duck\n",
    "else if(output1 > outputThreshold1):\n",
    "  jump\n",
    "else:\n",
    "  idle\n",
    "```"
   ]
  },
  {
   "cell_type": "markdown",
   "metadata": {},
   "source": [
    "## Multidimensional Optimization Problem"
   ]
  },
  {
   "cell_type": "markdown",
   "metadata": {},
   "source": [
    "A dinosaur will perform and score based off of what neural network it has. Thus, we can consider a dinosaur's score a function of it's neural network. But because a network is merely an $n$-dimensional vector $v_n$ of weights and biases, the score is actually a function of an $n$-dimensional vector $f(v_n)$. Thus the problem to find an optimal scoring dinosaur is actually a multidimensional [optimization problem](https://en.wikipedia.org/wiki/Optimization_problem) to find the $n$-dimensional vector (set of weights and biases) that yield the global maximum."
   ]
  },
  {
   "cell_type": "markdown",
   "metadata": {},
   "source": [
    "![alt text](https://github.com/BillyZhong/dynosaur/raw/master/documentation/multidimensional.png \"Multidimensional Graph\")"
   ]
  },
  {
   "cell_type": "markdown",
   "metadata": {},
   "source": [
    "## Neuroevolution\n",
    "The first method used to mutate the networks is known as [neuroevolution](https://en.wikipedia.org/wiki/Neuroevolution). Neuroevolution serves as a [heuristic](https://en.wikipedia.org/wiki/Heuristic) for exploring the multidimensional search space utilizing [genetic operators](https://en.wikipedia.org/wiki/Genetic_operator) observed in [biological evolution](https://en.wikipedia.org/wiki/Evolution)."
   ]
  },
  {
   "cell_type": "markdown",
   "metadata": {},
   "source": [
    "[neuroevolution chart here]"
   ]
  },
  {
   "cell_type": "markdown",
   "metadata": {},
   "source": [
    "#### Genome\n",
    "At its very base, neuroevolution modifies the [genomes](https://en.wikipedia.org/wiki/Genome) of a population. After the genomes are altered, the genomes are expressed into neural networks. In this project, the genome of the neuroevolution population is just the neural network. The neural network contains weights and biases all between $-1$ and $1$"
   ]
  },
  {
   "cell_type": "markdown",
   "metadata": {},
   "source": [
    "#### Neural Network\n",
    "In neuroevolution, the shape of the network is fixed--no edges or nodes will be added or removed. In this project, the shape of the neural network is that of a [feed-forward network](https://en.wikipedia.org/wiki/Feedforward_neural_network). However, the edges and nodes undergo weight and bias mutations, altering the values of the weights and biases used to calculate outputs."
   ]
  },
  {
   "cell_type": "markdown",
   "metadata": {},
   "source": [
    "#### Fitness\n",
    "After a dinosaur runs, it is assigned a [fitness score](https://en.wikipedia.org/wiki/Fitness_approximation) using a [fitness function](https://en.wikipedia.org/wiki/Fitness_function). For standard neuroevolution, the fitness score is determined by $\\psi(s) = s^2$ where $s$ is the dinosaur's score. This allows the fitness scale quadratically with score, weighting differences in lower scores less than differences in higher scores."
   ]
  },
  {
   "cell_type": "markdown",
   "metadata": {},
   "source": [
    "[2dfitnessgraph]"
   ]
  },
  {
   "cell_type": "markdown",
   "metadata": {},
   "source": [
    "#### Genetic Operators\n",
    "After each dinosaur is assigned a fitness, the entire population undergoes an evolutionary cycle. During the cycle, the dinosaurs are evolved by the three main genetic operators\n",
    "\n",
    "- [Selection](https://en.wikipedia.org/wiki/Selection_%28genetic_algorithm%29)\n",
    "- [Crossover](https://en.wikipedia.org/wiki/Crossover_%28genetic_algorithm%29)\n",
    "- [Mutation](https://en.wikipedia.org/wiki/Mutation_%28genetic_algorithm%29)"
   ]
  },
  {
   "cell_type": "markdown",
   "metadata": {},
   "source": [
    "#### Selection\n",
    "Selection as a genetic operator is meant to organize the dinosaurs in some way so that they are crossed to encourage certain traits. For example, a random selection would arbitrarily select two dinosaurs to crossover, regardless of their fitness. Of course, this wouldn't be very useful, so a selection that works based on fitness scores was used. During this stage in the project, there weren't very many successful simulations, so a variety of selections were investigated, such as elitism (simply selecting the top $n$ dinosaurs by fitness). However, use of elitism was discouraged because it reduced the amount of exploration neuroevolution did, and quickly located local maxima (continuously jumping), but not the global one. Ultimately, a simple [fitness proportionate selection](https://en.wikipedia.org/wiki/Fitness_proportionate_selection) was utilized in order to weight the dinosaurs by their fitness and encourage higher fitness dinosaurs to reproduce with other higher fitness dinosaurs, without reducing the population's diversity too quickly. Roulette wheel selection (the method used) is a specific type of fitness proportionate selection. In it, each dinosaur is given the probability of being selected based on the percentage its fitness constituted the total fitness of the population."
   ]
  },
  {
   "cell_type": "code",
   "execution_count": null,
   "metadata": {
    "collapsed": true
   },
   "outputs": [],
   "source": []
  }
 ],
 "metadata": {
  "kernelspec": {
   "display_name": "Python 2",
   "language": "python",
   "name": "python2"
  },
  "language_info": {
   "codemirror_mode": {
    "name": "ipython",
    "version": 2
   },
   "file_extension": ".py",
   "mimetype": "text/x-python",
   "name": "python",
   "nbconvert_exporter": "python",
   "pygments_lexer": "ipython2",
   "version": "2.7.9"
  }
 },
 "nbformat": 4,
 "nbformat_minor": 2
}
