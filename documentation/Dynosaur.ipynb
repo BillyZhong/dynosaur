{
 "cells": [
  {
   "cell_type": "markdown",
   "metadata": {},
   "source": [
    "# Dynosaur"
   ]
  },
  {
   "cell_type": "code",
   "execution_count": 2,
   "metadata": {
    "hide_input": true
   },
   "outputs": [],
   "source": [
    "import matplotlib.pyplot as plt\n",
    "from mpl_toolkits.mplot3d import Axes3D\n",
    "import numpy as np"
   ]
  },
  {
   "cell_type": "markdown",
   "metadata": {},
   "source": [
    "Welcome to Dynosaur, a machine learning project I started to learn all about\n",
    "[reinforcement learning](https://en.wikipedia.org/wiki/Reinforcement_learning) and\n",
    "beat the Google Dinosaur Jumper Game.\n",
    "To get started, head on over to [http://dynosaur.billyz.me](http://dynosaur.billyz.me)"
   ]
  },
  {
   "cell_type": "markdown",
   "metadata": {},
   "source": [
    "## Table of Contents\n",
    "- [The Game](#The-Game)\n",
    "- [Neural Networks](#Neural-Networks)\n",
    "- [Multidimensional Optimization Problem](#Multidimensional-Optimization-Problem)\n",
    "- [Neuroevolution](#Neuroevolution)\n",
    "- [Neuroevolution of Augmenting Topologies](#Neuroevolution-of-Augmenting-Topologies)\n",
    "  - [Sequential NEAT](#Sequential-NEAT)\n",
    "  - [Parallel NEAT](#Parallel-NEAT)\n",
    "  - [Continuous NEAT](#Continuous-NEAT)\n",
    "- [Further Improvements](#Further-Improvements)\n",
    "  - [Backpropagation](#Backpropagation)\n",
    "  - [Q Learning](#Q-Learning)\n",
    "    - [Sequential Q](#Sequential-Q)\n",
    "    - [Parallel Q](#Parallel-Q)\n",
    "  - [Cloud Dynosaur](#Cloud-Dynosaur)\n",
    "- [The Lab](#The-Lab)"
   ]
  },
  {
   "cell_type": "markdown",
   "metadata": {},
   "source": [
    "## The Game\n",
    "The Google Dinosaur Game is found on Google Chrome's default offline page.\n",
    "The game has a simple objective: maximize your score by avoiding oncoming obstacles. The longer you survive, the higher the score becomes.\n",
    "\n",
    "![](googledinosaurgame.png \"Google Dinosaur Game\")"
   ]
  },
  {
   "cell_type": "markdown",
   "metadata": {},
   "source": [
    "### Actions\n",
    "The dinosaur has three actions: jump (up arrow or space), duck (down arrow), or neither.\n",
    "When the dinosaur is ducking, its collision box becomes shorter than when it is standing up.\n",
    "When the dinosaur jumps, its collision box maintains the same dimensions while rising upwards using standard projectile physics."
   ]
  },
  {
   "cell_type": "markdown",
   "metadata": {},
   "source": [
    "### Obstacles\n",
    "There are two obstacles to avoid in the game: cacti and pterodactyls. Cacti have varying  height but are always located on the ground. They can be clustered or singular, which alters the width of their collision boxes. In order to continue, dinosaurs must jump over the cacti.\n",
    "Pterodactyls are always singular and all have the same dimensions. However, pterodactyls can hover at three different heights. At the lowest height, the dinosaur must jump over the pterodactyls to continue. At the second lowest height, the dinosaur can jump over the pterodactyl or duck under in order to continue. At the highest height, the dinosaur can do all three actions (if timed correctly) in order to continue."
   ]
  },
  {
   "cell_type": "markdown",
   "metadata": {},
   "source": [
    "### Inputs\n",
    "In order to make this game accessible to the bot, an open source version of the game, with identical physics, was utilized. The game file was modified to allow the bot to access data to use as inputs. These inputs are\n",
    "\n",
    "- T-Rex Speed\n",
    "- Distance from Ground to the Top of T-Rex Collision Box\n",
    "- Distance from Ground to the Bottom of T-Rex Collision Box\n",
    "- Distance from Left of the First Obstacle Collision Box to Right of the T-Rex Collision Box\n",
    "- Distance from Right of the First Obstacle Collision Box to Right of the T-Rex Collision Box\n",
    "- Distance from Ground to the Top of First Obstacle Collision Box\n",
    "- Distance from Ground to the Bottom of First Obstacle Collision Box\n",
    "- Distance from Left of the Second Obstacle Collision Box to Right of the T-Rex Collision Box\n",
    "- Distance from Right of the Second Obstacle Collision Box to Right of the T-Rex Collision Box\n",
    "- Distance from Ground to the Top of Second Obstacle Collision Box\n",
    "- Distance from Ground to the Bottom of Second Obstacle Collision Box\n",
    "\n",
    "![](inputsoutputs.png \"Inputs and Outputs\")"
   ]
  },
  {
   "cell_type": "markdown",
   "metadata": {},
   "source": [
    "## Neural Networks\n",
    "\n",
    "In order to give the dinosaur some way to make decisions on whether to jump or duck, each dinosaur will have a neural network “brain”. [Neural Networks](https://en.wikipedia.org/wiki/Artificial_neural_network) consist of artificial neurons that are linked together to model biological neurons."
   ]
  },
  {
   "cell_type": "markdown",
   "metadata": {},
   "source": [
    "### Neurons\n",
    "An [artificial neuron](https://en.wikipedia.org/wiki/Artificial_neuron) applies activation function $\\varphi(\\nu)$ to Euclidean inner product of inputs and weights $\\nu = \\sum x_i \\omega_i$ to produce output $y$, which is fed into the next neurons. In addition, the inner product may also be shifted by the bias of a node $b$. Thus $y=\\varphi(\\sum x_i \\omega_i-b)$. Artificial neurons model [biological neurons](https://en.wikipedia.org/wiki/Neuron), which sum up all stimuli from dendrites and synapses across axon when above a certain threshold.\n",
    "\n",
    "\n",
    "![](neuron.png \"Artificial Neuron\")"
   ]
  },
  {
   "cell_type": "markdown",
   "metadata": {},
   "source": [
    "### Activation Functions\n",
    "[Activation functions](https://en.wikipedia.org/wiki/Activation_function) are typically [Sigmoid functions](https://en.wikipedia.org/wiki/Sigmoid_function) to round out extreme inputs and center them around zero.\n",
    "\n",
    "![](activation.png \"Activation Functions\")"
   ]
  },
  {
   "cell_type": "markdown",
   "metadata": {},
   "source": [
    "### Networks\n",
    "A network of neurons allows one to create an overall system, in which each neuron’s output feeds into another’s input. Networks consists of input, hidden, and output neurons.\n",
    "Input neurons sense stimuli. Hidden neurons allow for internal abstraction of senses. Output neurons respond with interpretation of stimuli.\n",
    "\n",
    "![](neuralnet.png \"Neural Network\")"
   ]
  },
  {
   "cell_type": "markdown",
   "metadata": {},
   "source": [
    "The dinosaurs will take the numerical values of the inputs measured above, propagate them through the networks and use the output values to decide whether or not to jump or duck. Between the two output neurons the actions will be decided using the following pseudocode:\n",
    "\n",
    "```\n",
    "if(output2 > outputThreshold2):\n",
    "  duck\n",
    "else if(output1 > outputThreshold1):\n",
    "  jump\n",
    "else:\n",
    "  idle\n",
    "```"
   ]
  },
  {
   "cell_type": "markdown",
   "metadata": {},
   "source": [
    "## Multidimensional Optimization Problem"
   ]
  },
  {
   "cell_type": "markdown",
   "metadata": {},
   "source": [
    "A dinosaur will perform and score based off of what neural network it has. Thus, we can consider a dinosaur's score a function of it's neural network. But because a network is merely an $n$-dimensional vector $v_n$ of weights and biases, the score is actually a function of an $n$-dimensional vector $f(v_n)$. Thus the problem to find an optimal scoring dinosaur is actually a multidimensional [optimization problem](https://en.wikipedia.org/wiki/Optimization_problem) to find the $n$-dimensional vector (set of weights and biases) that yield the global maximum.\n",
    "\n",
    "![](multidimensional.png \"Multidimensional Graph\")"
   ]
  },
  {
   "cell_type": "markdown",
   "metadata": {},
   "source": [
    "## Neuroevolution\n",
    "The first method used to mutate the networks is known as [neuroevolution](https://en.wikipedia.org/wiki/Neuroevolution). Neuroevolution serves as a [heuristic](https://en.wikipedia.org/wiki/Heuristic) for exploring the multidimensional search space utilizing [genetic operators](https://en.wikipedia.org/wiki/Genetic_operator) observed in [biological evolution](https://en.wikipedia.org/wiki/Evolution)."
   ]
  },
  {
   "cell_type": "markdown",
   "metadata": {},
   "source": [
    "### Genome\n",
    "At its very base, neuroevolution modifies the [genomes](https://en.wikipedia.org/wiki/Genome) of a population. After the genomes are altered, the genomes are expressed into neural networks. In this project, the genome of the neuroevolution population is just the neural network. The neural network contains weights and biases all between $-1$ and $1$"
   ]
  },
  {
   "cell_type": "markdown",
   "metadata": {},
   "source": [
    "### Neural Network\n",
    "In neuroevolution, the shape of the network is fixed--no edges or nodes will be added or removed. In this project, the shape of the neural network is that of a [feed-forward network](https://en.wikipedia.org/wiki/Feedforward_neural_network). However, the edges and nodes undergo weight and bias mutations, altering the values of the weights and biases used to calculate outputs."
   ]
  },
  {
   "cell_type": "markdown",
   "metadata": {},
   "source": [
    "### Fitness\n",
    "After a dinosaur runs, it is assigned a [fitness score](https://en.wikipedia.org/wiki/Fitness_approximation) using a [fitness function](https://en.wikipedia.org/wiki/Fitness_function). For standard neuroevolution, the fitness score is determined by $\\psi(s) = s^2$ where $s$ is the dinosaur's score. This allows the fitness scale quadratically with score, weighting differences in lower scores less than differences in higher scores."
   ]
  },
  {
   "cell_type": "code",
   "execution_count": 3,
   "metadata": {
    "hide_input": true
   },
   "outputs": [
    {
     "data": {
      "image/png": "[encoded data removed]",
      "text/plain": [
       "<matplotlib.figure.Figure at 0x11069b2e8>"
      ]
     },
     "metadata": {},
     "output_type": "display_data"
    }
   ],
   "source": [
    "fig = plt.figure()\n",
    "\n",
    "axes = fig.add_axes([0.1, 0.1, 0.8, 0.8]) # left, bottom, width, height (range 0 to 1)\n",
    "\n",
    "x = np.linspace(0, 5)\n",
    "y = x ** 2\n",
    "axes.plot(x, y, 'r')\n",
    "\n",
    "axes.set_xlabel('s')\n",
    "axes.set_ylabel(r'$\\psi$')\n",
    "axes.set_title(r'$\\psi(s) = s^2$')\n",
    "plt.show()"
   ]
  },
  {
   "cell_type": "markdown",
   "metadata": {},
   "source": [
    "### Genetic Operators\n",
    "After each dinosaur is assigned a fitness, the entire population undergoes an evolutionary cycle. During the cycle, the dinosaurs are evolved by the three main genetic operators\n",
    "\n",
    "- [Selection](https://en.wikipedia.org/wiki/Selection_%28genetic_algorithm%29)\n",
    "- [Crossover](https://en.wikipedia.org/wiki/Crossover_%28genetic_algorithm%29)\n",
    "- [Mutation](https://en.wikipedia.org/wiki/Mutation_%28genetic_algorithm%29)"
   ]
  },
  {
   "cell_type": "markdown",
   "metadata": {},
   "source": [
    "### Selection\n",
    "Selection as a genetic operator is meant to organize the dinosaurs in some way so that they are crossed to encourage certain traits. For example, a random selection would arbitrarily select two dinosaurs to crossover, regardless of their fitness. Of course, this wouldn't be very useful, so a selection that works based on fitness scores was used. During this stage in the project, there weren't very many successful simulations, so a variety of selections were investigated, such as elitism (simply selecting the top $n$ dinosaurs by fitness). However, use of elitism was discouraged because it reduced the amount of exploration neuroevolution did, and quickly located local maxima (continuously jumping), but not the global one. Ultimately, a simple [fitness proportionate selection](https://en.wikipedia.org/wiki/Fitness_proportionate_selection) was utilized in order to weight the dinosaurs by their fitness and encourage higher fitness dinosaurs to reproduce with other higher fitness dinosaurs, without reducing the population's diversity too quickly. Roulette wheel selection (the method used) is a specific type of fitness proportionate selection. In it, each dinosaur is given the probability of being selected based on the percentage its fitness constituted the total fitness of the population.\n",
    "\n",
    "![](fitnesspropsel.png \"Fitness Proportionate Selection\")"
   ]
  },
  {
   "cell_type": "markdown",
   "metadata": {},
   "source": [
    "The pseudocode for Roulette Wheel Selection is as follows\n",
    "\n",
    "```\n",
    "Compute total fitness F\n",
    "Generate random number R between 0 (inclusive) and F (not inclusive)\n",
    "Compute cumulative fitness\n",
    "Determine the index I of the cumulative fitness distribution which R is greater but less than the next index\n",
    "Select I\n",
    "```"
   ]
  },
  {
   "cell_type": "markdown",
   "metadata": {
    "collapsed": true
   },
   "source": [
    "### Crossover\n",
    "After the dinosaurs are selected in some order, they are then crossed. Crossover in neuroevolution is quite simple; because each dinosaur has the exact same shape for their neural network as the others, corresponding nodes and edges would be switched depending on a set crossover rate\n",
    "\n",
    "The pseudocode for crossing is as follows:\n",
    "\n",
    "```\n",
    "for all corresponding nodes and edges:\n",
    "  if(random < crossoverRate):\n",
    "    swap corresponding nodes/edges\n",
    "```"
   ]
  },
  {
   "cell_type": "markdown",
   "metadata": {},
   "source": [
    "Because the function of the game is not necessarily multiplicative in respect to the genomes, it does not necessarily follow that two high fitness dinosaurs will yield a higher or equally as high fitness dinosaur. Likewise for low scoring dinosaurs. There isn't necessarily a correlation between the performance of parent dinosaurs and the offspring."
   ]
  },
  {
   "cell_type": "markdown",
   "metadata": {},
   "source": [
    "### Mutation\n",
    "In the neuroevolution portion of this project, only numerical adjustment mutations of the weights and biases were explored. Mutations occur at a random set rate. At first, the numerical adjustments shifted the weights and biases a fixed value in either direction, however it was noted that this mutated weights and biases too much, often quickly reaching the boundary of possible values. In order to solve this problem, a much more natural version of the numerical adjustment mutation was derived: the magnitude of adjustment was made by sampling a Gaussian Distribution $\\mathcal{N}(0,1)$. Gaussian distribution are theorized to represent normal distributions, with high frequency towards more centered values and less chance of outer values being selected.\n",
    "\n",
    "![](gaussian.jpg \"Gaussian Distribution\")"
   ]
  },
  {
   "cell_type": "markdown",
   "metadata": {},
   "source": [
    "### Issues with Neuroevolution\n",
    "An issue that is quickly realized is that neuroevolution, although favorable for having fixed, manageable neural network shapes, has an enormous search space. Assuming that each node and bias have values to the nearest hundredth, each numerical value in the neural network can then occupy $200$ possible values. Thus, for a neural network vector of length $n$, there are $200^n$ possible combinations of weights and biases that the neural network could occupy, which is exponential (and very, very bad)."
   ]
  },
  {
   "cell_type": "code",
   "execution_count": 4,
   "metadata": {
    "hide_input": true
   },
   "outputs": [
    {
     "data": {
      "image/png": "[encoded data removed]",
      "text/plain": [
       "<matplotlib.figure.Figure at 0x1106a9c18>"
      ]
     },
     "metadata": {},
     "output_type": "display_data"
    }
   ],
   "source": [
    "fig = plt.figure()\n",
    "\n",
    "axes = fig.add_axes([0.1, 0.1, 0.8, 0.8]) # left, bottom, width, height (range 0 to 1)\n",
    "\n",
    "x = np.linspace(0, 5)\n",
    "y = 200 ** x\n",
    "axes.plot(x, y, 'r')\n",
    "\n",
    "axes.set_xlabel('Dimension')\n",
    "axes.set_ylabel('Search Space')\n",
    "plt.show()"
   ]
  },
  {
   "cell_type": "markdown",
   "metadata": {},
   "source": [
    "## Neuroevolution of Augmenting Topologies\n",
    "The second method tried was based off a paper by Kenneth Stanley. [Neuroevolution of Augmenting Topologies (NEAT)](http://nn.cs.utexas.edu/downloads/papers/stanley.ec02.pdf) was a method commended for having much more success than the standard neuroevolution. Unlike in neuroevolution where the shape of the neural networks were fixed, the topologies of networks in NEAT are openly available to genetic modification. This is what makes it beneficial. Because each network starts initially as an empty network, and grows in degree from there, NEAT is able to explore the search space while minimizing dimensionality (see [above](#Issues-with-Neuroevolution))"
   ]
  },
  {
   "cell_type": "markdown",
   "metadata": {},
   "source": [
    "### Sequential NEAT\n",
    "Sequential NEAT borrows from the algorithms already created in Neuroevolution, however with one major difference: the code is now organized in an object-orientated manner. This makes it much easier to manage individuals within the population."
   ]
  },
  {
   "cell_type": "markdown",
   "metadata": {},
   "source": [
    "#### Genome\n",
    "Because the topology of the networks are now alterable, the genome of the dinosaur can no longer be just the neural network. In order to appropriately manage neurons when crossing and mutating dinosaurs, JSON objects were used to nodes and edges. Node biases were simply indexed by their node number, while edges were indexed by their innovation number (will be explained later). Edges also contain a new attribute: whether or not they are enabled (also will be explained later). Then later, when the dinosaurs are simulated, a neural network is expressed from the genome.\n",
    "\n",
    "![](neatgenome.png \"NEAT Genome\")"
   ]
  },
  {
   "cell_type": "markdown",
   "metadata": {},
   "source": [
    "#### Recurrent Networks\n",
    "Because the edges can now be from any node to any node (including itself), NEAT dinosaurs have access to networks known as [recurrent neural networks](https://en.wikipedia.org/wiki/Recurrent_neural_network). RNNs allow for more specified behavior, as networks now have access to its own values, creating a sense of short term memory."
   ]
  },
  {
   "cell_type": "markdown",
   "metadata": {
    "collapsed": true
   },
   "source": [
    "#### Fitness\n",
    "Now that there's an element of size of a network, the fitness function must be tweaked slightly. As mentioned before, the thing that makes NEAT more favorable than neuroevolution is its ability to work from the bottom up in respect to dimensionality. In order to encourage this, the fitness function will be modified to take into account the size of the graph. It is now given by $\\psi(s,N) = \\frac{s^2}{\\sqrt{N}}$ where $s$ is the score and $N$ is the number of edges in the graph. This encourages smaller networks while the square root penalizes differences in smaller degree networks more than differences in larger degree networks."
   ]
  },
  {
   "cell_type": "code",
   "execution_count": 5,
   "metadata": {
    "hide_input": true
   },
   "outputs": [
    {
     "data": {
      "image/png": "[encoded data removed]",
      "text/plain": [
       "<matplotlib.figure.Figure at 0x110782898>"
      ]
     },
     "metadata": {},
     "output_type": "display_data"
    }
   ],
   "source": [
    "fig = plt.figure()\n",
    "axes = fig.gca(projection='3d')\n",
    "\n",
    "x = np.linspace(1, 5)\n",
    "y = np.linspace(1, 5)\n",
    "x, y = np.meshgrid(x, y)\n",
    "z = x ** 2 / 1.0 * np.sqrt(y)\n",
    "\n",
    "surf = axes.plot_surface(x, y, z)\n",
    "axes.set_xlabel(r'$s$')\n",
    "axes.set_ylabel(r'$N$')\n",
    "axes.set_zlabel(r'$\\psi$')\n",
    "axes.set_title(r'$\\psi(s,n) = \\frac{s^2}{\\sqrt{N}}$')\n",
    "\n",
    "plt.show()"
   ]
  },
  {
   "cell_type": "markdown",
   "metadata": {},
   "source": [
    "#### Crossover\n",
    "Now that the genome is different, a new crossover algorithm must be devised. The one used in this project is the one proposed by Stanley in his paper. It follows this diagram:\n",
    "\n",
    "![](neatcrossover.png \"NEAT Crossover\")"
   ]
  },
  {
   "cell_type": "markdown",
   "metadata": {},
   "source": [
    "First, an issue that is run into is the naming conventions of edges. In order to solve this problem, a global edge labeling system is proposed by Stanley, known as innovation number. Whenever a novel edge is discovered (between a combination of nodes not recorded before), the total innovations is incremented and the newest edge is given the highest innovation number. These numbers will be used to easily compare the topology of one dinosaur to another. The proposed crossover algorithm lines up the two parents' genomes so they match in innovation number and are in the respective order. This process is known as [synapsis](https://en.wikipedia.org/wiki/Synapsis), an event that occurs in biological crossover as well, when comparing homologous chromosomes. After the genes are lined up, the offspring inherits genes from the parents according to the following pseudocode\n",
    "\n",
    "```\n",
    "Without Loss of Generality, Assume Parent 1 has higher or equal fitness to Parent 2\n",
    "If both parents have Gene x (mutual gene): \n",
    "  Inherit Gene x from a parent randomly (according to crossover rate)\n",
    "If only one parent has Gene x (excess at the end, disjoint otherwise):\n",
    "  If Parents have equal fitness:\n",
    "    Inherit the gene/lack of gene from a parent randomly (according to crossover rate)\n",
    "  else:\n",
    "    Inherit the gene/lack of gene from Parent 1 \n",
    "```"
   ]
  },
  {
   "cell_type": "markdown",
   "metadata": {},
   "source": [
    "#### Mutation\n",
    "Now that there are variable shape networks, there are new structural mutations, as well as disabling/enabling mutations. Each mutation's probability of occurring can be adjusted in the configuration files. The new mutations are as follows\n",
    "\n",
    "- Add Edge Mutation\n",
    "    - This mutation randomly finds a nonexistant edge in the network and constructs it. In order to keep track of all the nonedges in the network, [Cantor's Pairing Function](https://en.wikipedia.org/wiki/Pairing_function) was utilized to hash each nonedge by its possible source and destination nodes (as they didn't have innovation numbers to keep track of them).\n",
    "![alt text](neataddedge.png \"NEAT Add Edge Mutation\")\n",
    "- Delete Edge Mutation\n",
    "    - This mutation randomly selects an edge to delete\n",
    "- Add Node Mutation\n",
    "    - This mutation randomly selects an edge to split into two edges with a node between. The full edge, while still preserved in the genome, is disabled and thus not expressed. While there is no delete node mutation, node growth is managed by the automatic deletion of nodes when they are in contact with no edges.\n",
    "![alt text](neataddnode.png \"NEAT Add Node Mutation\")\n",
    "\n",
    "- Disable Mutation\n",
    "    - A new feature that NEAT brings is the ability to disable edges. Once an edge is disabled, it is kept in the genome and is still capable of being passed down to offspring, but is not expressed in the phenotype until reenabled.\n",
    "- Enable Mutation\n",
    "    - Enables an edge"
   ]
  },
  {
   "cell_type": "markdown",
   "metadata": {
    "collapsed": true
   },
   "source": [
    "#### Issues with Sequential NEAT\n",
    "Unfortunately, the reduction of dimensionality was still not enough to get reasonable results. While better, running NEAT sequentially still requires a lot of time to simulate each dinosaur individually."
   ]
  },
  {
   "cell_type": "markdown",
   "metadata": {},
   "source": [
    "### Parallel NEAT\n",
    "This is where the object-oriented data comes in handy. From sequential NEAT to parallel neat, nothing is really different. The only real difference is there are no longer any UI elements because all of the processing power is used to simulate as many dinosaurs at the same time as possible. All the dinosaurs begin at the same time, and they run until they lose, at which point they wait for all of the other dinosaurs to fail. After all the dinosaurs have failed, the genetic operations are carried out and the cycle is repeated. This is good because now the runtime of the program is independent of the size of the population, meaning that much more dinosaurs can be simulated in a much shorter time."
   ]
  },
  {
   "cell_type": "markdown",
   "metadata": {},
   "source": [
    "#### Results\n",
    "Because of it's parallel set-up, parallel NEAT was able to produce over-1000 scoring dinosaurs after 3-4 hours on average."
   ]
  },
  {
   "cell_type": "markdown",
   "metadata": {},
   "source": [
    "#### Issues with Parallel NEAT\n",
    "The most obvious issue with parallel NEAT is that a lot of runtime is wasted waiting for the highest-scoring dinosaurs to finish."
   ]
  },
  {
   "cell_type": "markdown",
   "metadata": {},
   "source": [
    "### Continuous NEAT\n",
    "Now this is where things get good. In order to remedy the problem with parallel NEAT, I designed a variation of parallel NEAT where a new offspring automatically populates the game of a dinosaur that failed. Now there is no time wasted waiting for other dinosaurs to finish."
   ]
  },
  {
   "cell_type": "markdown",
   "metadata": {},
   "source": [
    "#### Initial Issues with Continuous NEAT\n",
    "Under the assumption that when a dinosaur failed, all the other dinosaurs were still running, we run into a major problem: the selection algorithm used to pick dinosaurs to crossover no longer works because it depends on fitnesses and thus scores of the other dinosaurs. However, because all the other dinosaurs had begun at different times, it was impossible to tell which dinosaurs actually had a bad score and which had just started and so on."
   ]
  },
  {
   "cell_type": "markdown",
   "metadata": {},
   "source": [
    "#### Rank\n",
    "The solution to the aforementioned problem that I came up with was to establish a rank [priority queue](https://en.wikipedia.org/wiki/Priority_queue). This FIFO queue would keep track of the dinosaurs in respect to how long they lived. When a dinosaur began running, it would push itself into the queue and when it stopped running, it would delete itself from the queue. In order to find the longest living dinosaur, some method of traversal from the head of the queue towards the tail. So preferably the queue operations would look something like this\n",
    "\n",
    "| Queue Operation| Time Complexity|\n",
    "|:--------------:|---------------:|\n",
    "| Push           | $O(1)$         |\n",
    "| Delete         | $O(1)$         |\n",
    "| Traverse       | $O(n)$         |\n",
    "\n",
    "In order to accomplish this (and because javascript doesn't allow for addressing), I used three arrays to create a pseudo-pointer system. Two of the arrays were used to maintain a doubly-linked list, while one array was used to keep track of the address in the array of each dinosaur.\n",
    "\n",
    "When a dinosaur fails, the pointer will begin at the head of the priority queue, and will traverse back and select a dinosaur according to a geometric distribution of probability. Thus, longer living dinosaurs are more likely to be selected, however shorter living ones are still allowed to reproduce."
   ]
  },
  {
   "cell_type": "markdown",
   "metadata": {},
   "source": [
    "#### Other Benefits of Continuous NEAT\n",
    "Because continuous NEAT allows each simulation to progress independently of the others, this allows for a variety of evolutionary times. This works to our favor because, the shorter a dinosaur lasts, the more evolutionary cycles it will undergo in a set amount of time. Likewise, the longer a dinosaur lives, the less amount of evolutionary cycles it will undergo. This works almost like a dynamically adjusting learning rate, which is nice."
   ]
  },
  {
   "cell_type": "markdown",
   "metadata": {},
   "source": [
    "#### Results\n",
    "Continuous NEAT has a high score of 7900 and usually reaches an average score of 1000-2000 within an hour. "
   ]
  },
  {
   "cell_type": "markdown",
   "metadata": {},
   "source": [
    "## Further Improvements\n",
    "Here are some things I plan on working on"
   ]
  },
  {
   "cell_type": "markdown",
   "metadata": {},
   "source": [
    "### Backpropagation\n",
    "Backpropagation is a version of Dynosaur that is supervised, unlike the rest of Dynosaur. It utilizes [Long Short Term Memory Architecture](http://karpathy.github.io/2015/05/21/rnn-effectiveness/) to learn how to respond to inputs using the user/players actions as labeled data"
   ]
  },
  {
   "cell_type": "markdown",
   "metadata": {},
   "source": [
    "### Q Learning\n",
    "#### Sequential Q\n",
    "Sequential Q is an attempt to utilize [neural network approximated Q-learning](http://outlace.com/rlpart3.html) to learn how to play the game. Currently, I am using the [Euclidean Distance](https://en.wikipedia.org/wiki/Euclidean_distance) from the dinosaur to the first obstacle as a measure of reward. This seems like it should work intuitively because we would want the dinosaur to be incentivized to stay away from the obstacle ahead. The network used to decide whether or not to act is a perceptron, but currently, the dinosaur's movement is very finnicky\n",
    "#### Parallel Q\n",
    "Parallel Q is just Sequential Q's that all train a single neural network.\n"
   ]
  },
  {
   "cell_type": "markdown",
   "metadata": {},
   "source": [
    "### Cloud Dynosaur\n",
    "Cloud Dynosaur is a version of dynosaur that is primarily cloud-based. A backend server maintains a global population of dinosaurs. Meanwhile, users can come to the site and volunteer their hardware to train a sample of the existing dinosaurs and/or train new dinosaurs. After the dinosaurs are trained, they will be reuploaded back to the cloud."
   ]
  },
  {
   "cell_type": "markdown",
   "metadata": {},
   "source": [
    "## The Lab\n",
    "Just as a side note, Parallel NEAT, Continuous NEAT, Sequential Q, and Parallel Q all don't have user interfaces (for the aforementioned reasons). Here's how to use them if you're curious. Just open up the console and type the following commands.\n",
    "\n",
    "### Parallel NEAT\n",
    "```javascript\n",
    "//n is how many dinosaurs you want to evolve. Be careful!\n",
    "neat.init(n);\n",
    "//Press Spacebar and Immediately Click Away\n",
    "neat.startEvolution();\n",
    "```\n",
    "\n",
    "### Continuous NEAT\n",
    "```javascript\n",
    "//n is how many dinosaurs you want to evolve. Be careful!\n",
    "neat.init(n);\n",
    "neat.startEvolution();\n",
    "//Press Spacebar on Screen\n",
    "```\n",
    "\n",
    "### Sequential Q\n",
    "```javascript\n",
    "//Press Spacebar on Screen\n",
    "```\n",
    "\n",
    "### Parallel Q\n",
    "```javascript\n",
    "//n is how many dinosaurs you want to evolve. Be careful!\n",
    "init(n);\n",
    "//Press Spacebar on Screen\n",
    "```"
   ]
  },
  {
   "cell_type": "code",
   "execution_count": null,
   "metadata": {},
   "outputs": [],
   "source": []
  }
 ],
 "metadata": {
  "kernelspec": {
   "display_name": "Python 3",
   "language": "python",
   "name": "python3"
  },
  "language_info": {
   "codemirror_mode": {
    "name": "ipython",
    "version": 3
   },
   "file_extension": ".py",
   "mimetype": "text/x-python",
   "name": "python",
   "nbconvert_exporter": "python",
   "pygments_lexer": "ipython3",
   "version": "3.6.3"
  }
 },
 "nbformat": 4,
 "nbformat_minor": 2
}
