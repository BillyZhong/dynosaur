{
 "cells": [
  {
   "cell_type": "markdown",
   "metadata": {},
   "source": [
    "# Dynosaur"
   ]
  },
  {
   "cell_type": "markdown",
   "metadata": {},
   "source": [
    "Welcome to Dynosaur, a machine learning project I started to learn all about\n",
    "[reinforcement learning](https://en.wikipedia.org/wiki/Reinforcement_learning) and\n",
    "beat the Google Dinosaur Jumper Game.\n",
    "To get started, head on over to [http://dynosaur.billyz.me](http://dynosaur.billyz.me)"
   ]
  },
  {
   "cell_type": "markdown",
   "metadata": {},
   "source": [
    "## Table of Contents\n",
    "- [The Game](#The-Game)\n",
    "- [Neural Networks](#Neural-Networks)\n",
    "- [Multidimensional Optimization Problem](#Multidimensional-Optimization-Problem)\n",
    "- [Neuroevolution](#Neuroevolution)\n",
    "- [Neuroevolution of Augmenting Topologies (NEAT)](#Neuroevolution-of-Augmenting-Topologies-%28NEAT%29)\n",
    "  - Sequential NEAT\n",
    "  - Parallel NEAT\n",
    "  - Continuous NEAT\n",
    "- Backpropagation\n",
    "- Q Learning\n",
    "  - Sequential Q\n",
    "  - Parallel Q\n",
    "- The Lab\n",
    "- Future Improvements"
   ]
  },
  {
   "cell_type": "markdown",
   "metadata": {},
   "source": [
    "## The Game\n",
    "The Google Dinosaur Game is found on Google Chrome's default offline page.\n",
    "The game has a simple objective: maximize your score by avoiding oncoming obstacles. The longer you survive, the higher the score becomes."
   ]
  },
  {
   "cell_type": "markdown",
   "metadata": {},
   "source": [
    "![alt text](https://github.com/BillyZhong/dynosaur/raw/master/documentation/googledinosaurgame.png \"Google Dinosaur Game\")"
   ]
  },
  {
   "cell_type": "markdown",
   "metadata": {},
   "source": [
    "#### Actions\n",
    "The dinosaur has three actions: jump (up arrow or space), duck (down arrow), or neither.\n",
    "When the dinosaur is ducking, its collision box becomes shorter than when it is standing up.\n",
    "When the dinosaur jumps, its collision box maintains the same dimensions while rising upwards using standard projectile physics."
   ]
  },
  {
   "cell_type": "markdown",
   "metadata": {},
   "source": [
    "#### Obstacles\n",
    "There are two obstacles to avoid in the game: cacti and pterodactyls. Cacti have varying  height but are always located on the ground. They can be clustered or singular, which alters the width of their collision boxes. In order to continue, dinosaurs must jump over the cacti.\n",
    "Pterodactyls are always singular and all have the same dimensions. However, pterodactyls can hover at three different heights. At the lowest height, the dinosaur must jump over the pterodactyls to continue. At the second lowest height, the dinosaur can jump over the pterodactyl or duck under in order to continue. At the highest height, the dinosaur can do all three actions (if timed correctly) in order to continue."
   ]
  },
  {
   "cell_type": "markdown",
   "metadata": {},
   "source": [
    "#### Inputs\n",
    "In order to make this game accessible to the bot, an open source version of the game, with identical physics, was utilized. The game file was modified to allow the bot to access data to use as inputs. These inputs are\n",
    "\n",
    "- T-Rex Speed\n",
    "- Distance from Ground to the Top of T-Rex Collision Box\n",
    "- Distance from Ground to the Bottom of T-Rex Collision Box\n",
    "- Distance from Left of the First Obstacle Collision Box to Right of the T-Rex Collision Box\n",
    "- Distance from Right of the First Obstacle Collision Box to Right of the T-Rex Collision Box\n",
    "- Distance from Ground to the Top of First Obstacle Collision Box\n",
    "- Distance from Ground to the Bottom of First Obstacle Collision Box\n",
    "- Distance from Left of the Second Obstacle Collision Box to Right of the T-Rex Collision Box\n",
    "- Distance from Right of the Second Obstacle Collision Box to Right of the T-Rex Collision Box\n",
    "- Distance from Ground to the Top of Second Obstacle Collision Box\n",
    "- Distance from Ground to the Bottom of Second Obstacle Collision Box"
   ]
  },
  {
   "cell_type": "markdown",
   "metadata": {},
   "source": [
    "![alt text](https://github.com/BillyZhong/dynosaur/raw/master/documentation/inputsoutputs.png \"Inputs and Outputs\")"
   ]
  },
  {
   "cell_type": "markdown",
   "metadata": {},
   "source": [
    "## Neural Networks\n",
    "\n",
    "In order to give the dinosaur some way to make decisions on whether to jump or duck, each dinosaur will have a neural network “brain”. [Neural Networks](https://en.wikipedia.org/wiki/Artificial_neural_network) consist of artificial neurons that are linked together to model biological neurons."
   ]
  },
  {
   "cell_type": "markdown",
   "metadata": {},
   "source": [
    "#### Neurons\n",
    "An [artificial neuron](https://en.wikipedia.org/wiki/Artificial_neuron) applies activation function $\\varphi(\\nu)$ to Euclidean inner product of inputs and weights $\\nu = \\sum x_i \\omega_i$ to produce output $y$, which is fed into the next neurons. In addition, the inner product may also be shifted by the bias of a node $b$. Thus $y=\\varphi(\\sum x_i \\omega_i-b)$. Artificial neurons model [biological neurons](https://en.wikipedia.org/wiki/Neuron), which sum up all stimuli from dendrites and synapses across axon when above a certain threshold."
   ]
  },
  {
   "cell_type": "markdown",
   "metadata": {},
   "source": [
    "![alt text](https://github.com/BillyZhong/dynosaur/raw/master/documentation/neuron.png \"Artificial Neuron\")"
   ]
  },
  {
   "cell_type": "markdown",
   "metadata": {},
   "source": [
    "#### Activation Functions\n",
    "[Activation functions](https://en.wikipedia.org/wiki/Activation_function) are typically [Sigmoid functions](https://en.wikipedia.org/wiki/Sigmoid_function) to round out extreme inputs and center them around zero"
   ]
  },
  {
   "cell_type": "markdown",
   "metadata": {},
   "source": [
    "![alt text](https://github.com/BillyZhong/dynosaur/raw/master/documentation/activation.png \"Activation Functions\")"
   ]
  },
  {
   "cell_type": "markdown",
   "metadata": {},
   "source": [
    "#### Networks\n",
    "A network of neurons allows one to create an overall system, in which each neuron’s output feeds into another’s input. Networks consists of input, hidden, and output neurons.\n",
    "Input neurons sense stimuli. Hidden neurons allow for internal abstraction of senses. Output neurons respond with interpretation of stimuli."
   ]
  },
  {
   "cell_type": "markdown",
   "metadata": {},
   "source": [
    "![alt text](https://github.com/BillyZhong/dynosaur/raw/master/documentation/neuralnet.png \"Neural Network\")"
   ]
  },
  {
   "cell_type": "markdown",
   "metadata": {},
   "source": [
    "The dinosaurs will take the numerical values of the inputs measured above, propagate them through the networks and use the output values to decide whether or not to jump or duck. Between the two output neurons the actions will be decided using the following pseudocode\n",
    "\n",
    "```\n",
    "if(output2 > outputThreshold2):\n",
    "  duck\n",
    "else if(output1 > outputThreshold1):\n",
    "  jump\n",
    "else:\n",
    "  idle\n",
    "```"
   ]
  },
  {
   "cell_type": "markdown",
   "metadata": {},
   "source": [
    "## Multidimensional Optimization Problem"
   ]
  },
  {
   "cell_type": "markdown",
   "metadata": {},
   "source": [
    "A dinosaur will perform and score based off of what neural network it has. Thus, we can consider a dinosaur's score a function of it's neural network. But because a network is merely an $n$-dimensional vector $v_n$ of weights and biases, the score is actually a function of an $n$-dimensional vector $f(v_n)$. Thus the problem to find an optimal scoring dinosaur is actually a multidimensional [optimization problem](https://en.wikipedia.org/wiki/Optimization_problem) to find the $n$-dimensional vector (set of weights and biases) that yield the global maximum."
   ]
  },
  {
   "cell_type": "markdown",
   "metadata": {},
   "source": [
    "![alt text](https://github.com/BillyZhong/dynosaur/raw/master/documentation/multidimensional.png \"Multidimensional Graph\")"
   ]
  },
  {
   "cell_type": "markdown",
   "metadata": {},
   "source": [
    "## Neuroevolution\n",
    "The first method used to mutate the networks is known as [neuroevolution](https://en.wikipedia.org/wiki/Neuroevolution). Neuroevolution serves as a [heuristic](https://en.wikipedia.org/wiki/Heuristic) for exploring the multidimensional search space utilizing [genetic operators](https://en.wikipedia.org/wiki/Genetic_operator) observed in [biological evolution](https://en.wikipedia.org/wiki/Evolution)."
   ]
  },
  {
   "cell_type": "markdown",
   "metadata": {},
   "source": [
    "[neuroevolution chart here]"
   ]
  },
  {
   "cell_type": "markdown",
   "metadata": {},
   "source": [
    "#### Genome\n",
    "At its very base, neuroevolution modifies the [genomes](https://en.wikipedia.org/wiki/Genome) of a population. After the genomes are altered, the genomes are expressed into neural networks. In this project, the genome of the neuroevolution population is just the neural network. The neural network contains weights and biases all between $-1$ and $1$"
   ]
  },
  {
   "cell_type": "markdown",
   "metadata": {},
   "source": [
    "#### Neural Network\n",
    "In neuroevolution, the shape of the network is fixed--no edges or nodes will be added or removed. In this project, the shape of the neural network is that of a [feed-forward network](https://en.wikipedia.org/wiki/Feedforward_neural_network). However, the edges and nodes undergo weight and bias mutations, altering the values of the weights and biases used to calculate outputs."
   ]
  },
  {
   "cell_type": "markdown",
   "metadata": {},
   "source": [
    "[graph picture]"
   ]
  },
  {
   "cell_type": "markdown",
   "metadata": {},
   "source": [
    "#### Fitness\n",
    "After a dinosaur runs, it is assigned a [fitness score](https://en.wikipedia.org/wiki/Fitness_approximation) using a [fitness function](https://en.wikipedia.org/wiki/Fitness_function). For standard neuroevolution, the fitness score is determined by $\\psi(s) = s^2$ where $s$ is the dinosaur's score. This allows the fitness scale quadratically with score, weighting differences in lower scores less than differences in higher scores."
   ]
  },
  {
   "cell_type": "markdown",
   "metadata": {},
   "source": [
    "[2dfitnessgraph]"
   ]
  },
  {
   "cell_type": "markdown",
   "metadata": {},
   "source": [
    "#### Genetic Operators\n",
    "After each dinosaur is assigned a fitness, the entire population undergoes an evolutionary cycle. During the cycle, the dinosaurs are evolved by the three main genetic operators\n",
    "\n",
    "- [Selection](https://en.wikipedia.org/wiki/Selection_%28genetic_algorithm%29)\n",
    "- [Crossover](https://en.wikipedia.org/wiki/Crossover_%28genetic_algorithm%29)\n",
    "- [Mutation](https://en.wikipedia.org/wiki/Mutation_%28genetic_algorithm%29)"
   ]
  },
  {
   "cell_type": "markdown",
   "metadata": {},
   "source": [
    "#### Selection\n",
    "Selection as a genetic operator is meant to organize the dinosaurs in some way so that they are crossed to encourage certain traits. For example, a random selection would arbitrarily select two dinosaurs to crossover, regardless of their fitness. Of course, this wouldn't be very useful, so a selection that works based on fitness scores was used. During this stage in the project, there weren't very many successful simulations, so a variety of selections were investigated, such as elitism (simply selecting the top $n$ dinosaurs by fitness). However, use of elitism was discouraged because it reduced the amount of exploration neuroevolution did, and quickly located local maxima (continuously jumping), but not the global one. Ultimately, a simple [fitness proportionate selection](https://en.wikipedia.org/wiki/Fitness_proportionate_selection) was utilized in order to weight the dinosaurs by their fitness and encourage higher fitness dinosaurs to reproduce with other higher fitness dinosaurs, without reducing the population's diversity too quickly. Roulette wheel selection (the method used) is a specific type of fitness proportionate selection. In it, each dinosaur is given the probability of being selected based on the percentage its fitness constituted the total fitness of the population."
   ]
  },
  {
   "cell_type": "markdown",
   "metadata": {},
   "source": [
    "![alt text](https://github.com/BillyZhong/dynosaur/raw/master/documentation/fitnesspropsel.png \"Fitness Proportionate Selection\")"
   ]
  },
  {
   "cell_type": "markdown",
   "metadata": {},
   "source": [
    "The pseudocode for Roulette Wheel Selection is as follows\n",
    "\n",
    "```\n",
    "Compute total fitness F\n",
    "Generate random number R between 0 (inclusive) and F (not inclusive)\n",
    "Compute cumulative fitness\n",
    "Determine the index I of the cumulative fitness distribution which R is greater but less than the next index\n",
    "Select I\n",
    "```"
   ]
  },
  {
   "cell_type": "markdown",
   "metadata": {
    "collapsed": true
   },
   "source": [
    "#### Crossover\n",
    "After the dinosaurs are selected in some order, they are then crossed. Crossover in neuroevolution is quite simple; because each dinosaur has the exact same shape for their neural network as the others, corresponding nodes and edges would be switched depending on a set crossover rate\n",
    "\n",
    "The pseudocode for crossing is as follows:\n",
    "\n",
    "```\n",
    "for all corresponding nodes and edges:\n",
    "  if(random < crossoverRate):\n",
    "    swap corresponding nodes/edges\n",
    "```"
   ]
  },
  {
   "cell_type": "markdown",
   "metadata": {},
   "source": [
    "Because the function of the game is not necessarily multiplicative in respect to the genomes, it does not necessarily follow that two high fitness dinosaurs will yield a higher or equally as high fitness dinosaur. Likewise for low scoring dinosaurs. There isn't necessarily a correlation between the performance of parent dinosaurs and the offspring."
   ]
  },
  {
   "cell_type": "markdown",
   "metadata": {},
   "source": [
    "#### Mutation\n",
    "In the neuroevolution portion of this project, only numerical adjustment mutations of the weights and biases were explored. Mutations occur at a random set rate. At first, the numerical adjustments shifted the weights and biases a fixed value in either direction, however it was noted that this mutated weights and biases too much, often quickly reaching the boundary of possible values. In order to solve this problem, a much more natural version of the numerical adjustment mutation was derived: the magnitude of adjustment was made by sampling a Gaussian Distribution $\\mathcal{N}(0,1)$. Gaussian distribution are theorized to represent normal distributions, with high frequency towards more centered values and less chance of outer values being selected."
   ]
  },
  {
   "cell_type": "markdown",
   "metadata": {},
   "source": [
    "![alt text](https://github.com/BillyZhong/dynosaur/raw/master/documentation/gaussian.jpg \"Gaussian Distribution\")"
   ]
  },
  {
   "cell_type": "markdown",
   "metadata": {},
   "source": [
    "#### Issues with Neuroevolution\n",
    "An issue that is quickly realized is that neuroevolution, although favorable for having fixed, manageable neural network shapes, has an enormous search space. Assuming that each node and bias have values to the nearest hundredth, each numerical value in the neural network can then occupy $200$ possible values. Thus, for a neural network vector of length $n$, there are $200^n$ possible combinations of weights and biases that the neural network could occupy, which is exponential (and very, very bad)."
   ]
  },
  {
   "cell_type": "markdown",
   "metadata": {},
   "source": [
    "[exponential chart]"
   ]
  },
  {
   "cell_type": "markdown",
   "metadata": {},
   "source": [
    "## Neuroevolution of Augmenting Topologies (NEAT)\n",
    "The second method tried was based off a paper by Kenneth Stanley. [Neuroevolution of Augmenting Topologies (NEAT)](http://nn.cs.utexas.edu/downloads/papers/stanley.ec02.pdf) was a method commended for having much more success than the standard neuroevolution. Unlike in neuroevolution where the shape of the neural networks were fixed, the topologies of networks in NEAT are openly available to genetic modification. This is what makes it beneficial. Because each network starts initially as an empty network, and grows in degree from there, NEAT is able to explore the search space while minimizing dimensionality (see [above](#Issues-with-Neuroevolution))"
   ]
  },
  {
   "cell_type": "markdown",
   "metadata": {},
   "source": [
    "### Sequential NEAT\n",
    "Sequential NEAT borrows from the algorithms already created in Neuroevolution, however with one major difference: the code is now organized in an object-orientated manner. This makes it much easier to manage individuals within the population."
   ]
  },
  {
   "cell_type": "markdown",
   "metadata": {},
   "source": [
    "#### Genome\n",
    "Because the topology of the networks are now alterable, the genome of the dinosaur can no longer be just the neural network. In order to appropriately manage neurons when crossing and mutating dinosaurs, JSON objects were used to nodes and edges. Node biases were simply indexed by their node number, while edges were indexed by their innovation number (will be explained later. Then later, when the dinosaurs are simulated, a neural network is expressed from the genome."
   ]
  },
  {
   "cell_type": "markdown",
   "metadata": {
    "collapsed": true
   },
   "source": [
    "![alt text](https://github.com/BillyZhong/dynosaur/raw/master/documentation/neatgenome.png \"NEAT Genome\")"
   ]
  },
  {
   "cell_type": "markdown",
   "metadata": {
    "collapsed": true
   },
   "source": [
    "#### Fitness\n",
    "Now that there's an element of size of a network, the fitness function must be tweaked slightly. As mentioned before, the thing that makes NEAT more favorable than neuroevolution is its ability to work from the bottom up in respect to dimensionality. In order to encourage this, the fitness function will be modified to take into account the size of the graph. It is now given by $\\psi(s,N) = \\frac{s^2}{\\sqrt{N}}$ where $s$ is the score and $N$ is the number of edges in the graph. This encourages smaller networks while the square root penalizes differences in smaller degree networks more than differences in larger degree networks."
   ]
  },
  {
   "cell_type": "markdown",
   "metadata": {},
   "source": [
    "[3d graph of fitness]"
   ]
  },
  {
   "cell_type": "markdown",
   "metadata": {},
   "source": [
    "#### Crossover\n",
    "Now that the genome is different, a new crossover algorithm must be devised. The one used in this project is the one proposed by Stanley in his paper. It follows this diagram"
   ]
  },
  {
   "cell_type": "markdown",
   "metadata": {},
   "source": [
    "![alt text](https://github.com/BillyZhong/dynosaur/raw/master/documentation/neatcrossover.png \"NEAT Crossover\")"
   ]
  },
  {
   "cell_type": "markdown",
   "metadata": {},
   "source": [
    "First, an issue that is run into is the naming conventions of edges. In order to solve this problem, a global edge labeling system is proposed by Stanley, known as innovation number. Whenever a novel edge is discovered (between a combination of nodes not recorded before), the total innovations is incremented and the newest edge is given the highest innovation number. These numbers will be used to easily compare the topology of one dinosaur to another. The proposed crossover algorithm lines up the two parents' genomes so they match in innovation number and are in the respective order. This process is known as [synapsis](https://en.wikipedia.org/wiki/Synapsis), an event that occurs in biological crossover as well, when comparing homologous chromosomes. After the genes are lined up, the offspring inherits genes from the parents according to the following pseudocode\n",
    "\n",
    "```\n",
    "Without Loss of Generality, Assume Parent 1 has higher or equal fitness to Parent 2\n",
    "If both parents have Gene x (mutual gene): \n",
    "  Inherit Gene x from a parent randomly (according to crossover rate)\n",
    "If only one parent has Gene x (excess at the end, disjoint otherwise):\n",
    "  If Parents have equal fitness:\n",
    "    Inherit the gene/lack of gene from a parent randomly (according to crossover rate)\n",
    "  else:\n",
    "    Inherit the gene/lack of gene from Parent 1 \n",
    "```"
   ]
  },
  {
   "cell_type": "markdown",
   "metadata": {},
   "source": [
    "#### Mutation\n",
    "Now that there are variable shape networks, there are new structural mutations, as well as disabling/enabling mutations. Each mutation's probability of occurring can be adjusted in the configuration files. The new mutations are as follows\n",
    "\n",
    "- Add Edge Mutation\n",
    "    - This mutation randomly finds a nonexistant edge in the network and constructs it. In order to keep track of all the nonedges in the network, [Cantor's Pairing Function](https://en.wikipedia.org/wiki/Pairing_function) was utilized to hash each nonedge by its possible source and destination nodes (as they didn't have innovation numbers to keep track of them).\n",
    "![alt text](https://github.com/BillyZhong/dynosaur/raw/master/documentation/neataddedge.png \"NEAT Add Edge Mutation\")\n",
    "- Delete Edge Mutation\n",
    "    - This mutation randomly selects an edge to delete\n",
    "- Add Node Mutation\n",
    "    - This mutation randomly selects an edge to split into two edges with a node between. While there is no delete node mutation, node growth is managed by the automatic deletion of nodes when they are in contact with no edges.\n",
    "![alt text](https://github.com/BillyZhong/dynosaur/raw/master/documentation/neataddnode.png \"NEAT Add Node Mutation\")\n",
    "\n",
    "- Disable Mutation\n",
    "    - A new feature of the"
   ]
  },
  {
   "cell_type": "code",
   "execution_count": null,
   "metadata": {
    "collapsed": true
   },
   "outputs": [],
   "source": []
  }
 ],
 "metadata": {
  "kernelspec": {
   "display_name": "Python 2",
   "language": "python",
   "name": "python2"
  },
  "language_info": {
   "codemirror_mode": {
    "name": "ipython",
    "version": 2
   },
   "file_extension": ".py",
   "mimetype": "text/x-python",
   "name": "python",
   "nbconvert_exporter": "python",
   "pygments_lexer": "ipython2",
   "version": "2.7.9"
  }
 },
 "nbformat": 4,
 "nbformat_minor": 2
}
